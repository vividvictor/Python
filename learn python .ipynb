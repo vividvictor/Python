{
 "cells": [
  {
   "cell_type": "code",
   "execution_count": 2,
   "metadata": {
    "collapsed": false
   },
   "outputs": [
    {
     "name": "stdout",
     "output_type": "stream",
     "text": [
      "8\n"
     ]
    }
   ],
   "source": [
    "a=2\n",
    "b=3\n",
    "print (a**b)"
   ]
  },
  {
   "cell_type": "code",
   "execution_count": 3,
   "metadata": {
    "collapsed": true
   },
   "outputs": [],
   "source": [
    "matplotlib inline"
   ]
  },
  {
   "cell_type": "code",
   "execution_count": 192,
   "metadata": {
    "collapsed": false
   },
   "outputs": [
    {
     "data": {
      "text/plain": [
       "<matplotlib.legend.Legend at 0x29bf9655048>"
      ]
     },
     "execution_count": 192,
     "metadata": {},
     "output_type": "execute_result"
    },
    {
     "data": {
      "image/png": "[encoded data removed]",
      "text/plain": [
       "<matplotlib.figure.Figure at 0x29bf9650518>"
      ]
     },
     "metadata": {},
     "output_type": "display_data"
    }
   ],
   "source": [
    "from matplotlib import pyplot as plt\n",
    "import numpy as np\n",
    "x=[1,2,3,1]\n",
    "y=[1,3,0,1]\n",
    "plt.plot(np.array(x)+1,np.array(y),color='r',linewidth='3',linestyle='--',marker='D',label='odd')\n",
    "plt.plot(np.array(x)+2,np.array(y),color='g',linewidth='3',linestyle='--',marker='D',label='odd')\n",
    "plt.plot(np.array(x)+3,np.array(y),color='b',linewidth='3',linestyle='--',marker='D',label='odd')\n",
    "plt.grid(True,color='r')\n",
    "plt.title('title')\n",
    "plt.ylabel('ckf')\n",
    "plt.xlabel('dfds')\n",
    "plt.xticks([1,10],['a','b'])\n",
    "plt.yticks([1,10])\n",
    "plt.ylim([-1,10])\n",
    "plt.xlim([-1,10])\n",
    "plt.legend()\n",
    "plt.legend(loc='upper right')"
   ]
  },
  {
   "cell_type": "code",
   "execution_count": 49,
   "metadata": {
    "collapsed": false
   },
   "outputs": [
    {
     "data": {
      "text/plain": [
       "'$ \\\\mu'"
      ]
     },
     "execution_count": 49,
     "metadata": {},
     "output_type": "execute_result"
    }
   ],
   "source": [
    "r'$ \\mu'"
   ]
  },
  {
   "cell_type": "code",
   "execution_count": 51,
   "metadata": {
    "collapsed": false
   },
   "outputs": [
    {
     "data": {
      "text/plain": [
       "[<matplotlib.lines.Line2D at 0x29bf97ca6a0>]"
      ]
     },
     "execution_count": 51,
     "metadata": {},
     "output_type": "execute_result"
    },
    {
     "data": {
      "image/png": "[encoded data removed]",
      "text/plain": [
       "<matplotlib.figure.Figure at 0x29bf96cd128>"
      ]
     },
     "metadata": {},
     "output_type": "display_data"
    }
   ],
   "source": [
    "from matplotlib import pyplot as plt\n",
    "import numpy as np\n",
    "t=np.arange(0,5,0.2)\n",
    "fig=plt.figure()\n",
    "ax1=fig.add_subplot(221)\n",
    "ax2=fig.add_subplot(222)\n",
    "ax3=fig.add_subplot(212)\n",
    "ax1.plot(t,t)"
   ]
  },
  {
   "cell_type": "code",
   "execution_count": 52,
   "metadata": {
    "collapsed": false
   },
   "outputs": [
    {
     "ename": "ImportError",
     "evalue": "No module named 'homework'",
     "output_type": "error",
     "traceback": [
      "\u001b[1;31m---------------------------------------------------------------------------\u001b[0m",
      "\u001b[1;31mImportError\u001b[0m                               Traceback (most recent call last)",
      "\u001b[1;32m<ipython-input-52-83ad9bf8a56a>\u001b[0m in \u001b[0;36m<module>\u001b[1;34m()\u001b[0m\n\u001b[0;32m      1\u001b[0m \u001b[1;32mimport\u001b[0m \u001b[0mmatplotlib\u001b[0m\u001b[1;33m.\u001b[0m\u001b[0mpyplot\u001b[0m \u001b[1;32mas\u001b[0m \u001b[0mplt\u001b[0m\u001b[1;33m\u001b[0m\u001b[0m\n\u001b[1;32m----> 2\u001b[1;33m \u001b[1;32mfrom\u001b[0m \u001b[0mhomework\u001b[0m \u001b[1;32mimport\u001b[0m \u001b[0mgen_circle_point\u001b[0m\u001b[1;33m\u001b[0m\u001b[0m\n\u001b[0m\u001b[0;32m      3\u001b[0m \u001b[0mN\u001b[0m\u001b[1;33m=\u001b[0m\u001b[1;36m32\u001b[0m\u001b[1;33m\u001b[0m\u001b[0m\n\u001b[0;32m      4\u001b[0m \u001b[0mfig\u001b[0m\u001b[1;33m=\u001b[0m\u001b[0mplt\u001b[0m\u001b[1;33m.\u001b[0m\u001b[0mfigure\u001b[0m\u001b[1;33m(\u001b[0m\u001b[1;33m)\u001b[0m\u001b[1;33m\u001b[0m\u001b[0m\n",
      "\u001b[1;31mImportError\u001b[0m: No module named 'homework'"
     ]
    }
   ],
   "source": [
    "import matplotlib.pyplot as plt\n",
    "from homework import gen_circle_point\n",
    "N=32\n",
    "fig=plt.figure()\n"
   ]
  },
  {
   "cell_type": "code",
   "execution_count": 60,
   "metadata": {
    "collapsed": false
   },
   "outputs": [
    {
     "name": "stdout",
     "output_type": "stream",
     "text": [
      "[[[1 2 3]]\n",
      "\n",
      " [[1 2 3]]\n",
      "\n",
      " [[1 2 3]]]\n"
     ]
    }
   ],
   "source": [
    "a=np.array([1,2,3])\n",
    "b=np.array([[a],[a],[a]])\n",
    "\n",
    "print (b)"
   ]
  },
  {
   "cell_type": "code",
   "execution_count": 80,
   "metadata": {
    "collapsed": false
   },
   "outputs": [
    {
     "name": "stdout",
     "output_type": "stream",
     "text": [
      "[6 1 2 8 5 4 9 0 7 3]\n",
      "[[0 1 2]\n",
      " [3 4 5]\n",
      " [6 7 8]]\n"
     ]
    }
   ],
   "source": [
    "a=np.arange(10)\n",
    "np.random.shuffle(a)\n",
    "print (a)\n",
    "a=np.arange(9).reshape((3,3))\n",
    "np.random.shuffle(a)\n",
    "print (a)"
   ]
  },
  {
   "cell_type": "code",
   "execution_count": 90,
   "metadata": {
    "collapsed": false
   },
   "outputs": [
    {
     "name": "stdout",
     "output_type": "stream",
     "text": [
      "[[ 1.  0.  0.  0.]\n",
      " [ 0.  1.  0.  0.]\n",
      " [ 0.  0.  1.  0.]\n",
      " [ 0.  0.  0.  1.]]\n"
     ]
    }
   ],
   "source": [
    "a=np.eye(4)\n",
    "print (a)"
   ]
  },
  {
   "cell_type": "code",
   "execution_count": 104,
   "metadata": {
    "collapsed": false
   },
   "outputs": [
    {
     "name": "stdout",
     "output_type": "stream",
     "text": [
      "[[0 1 2]\n",
      " [3 4 5]\n",
      " [6 7 8]]\n",
      "[[ 4  5  6]\n",
      " [ 7  8  9]\n",
      " [10 11 12]]\n",
      "[[ 0  2  4]\n",
      " [ 3  5  7]\n",
      " [ 6  8 10]]\n",
      "[[ 0  1  2]\n",
      " [ 4  5  6]\n",
      " [ 8  9 10]]\n"
     ]
    }
   ],
   "source": [
    "a=np.arange(9).reshape(3,3)\n",
    "\n",
    "print (a)\n",
    "c=a+4\n",
    "print (c)\n",
    "b=a+np.arange(3)\n",
    "d=a+np.arange(3).reshape(3,1)\n",
    "print (b)\n",
    "print (d)"
   ]
  },
  {
   "cell_type": "code",
   "execution_count": 107,
   "metadata": {
    "collapsed": false
   },
   "outputs": [
    {
     "name": "stdout",
     "output_type": "stream",
     "text": [
      "[[0 3 6]\n",
      " [1 4 7]\n",
      " [2 5 8]]\n",
      "[[0 3 6]\n",
      " [1 4 7]\n",
      " [2 5 8]]\n"
     ]
    }
   ],
   "source": [
    "\n",
    "print (a.transpose())\n",
    "print (a.T)"
   ]
  },
  {
   "cell_type": "code",
   "execution_count": 110,
   "metadata": {
    "collapsed": false
   },
   "outputs": [
    {
     "name": "stdout",
     "output_type": "stream",
     "text": [
      "[[0 1 2]\n",
      " [3 4 5]\n",
      " [6 7 8]] [[0 3 6]\n",
      " [1 4 7]\n",
      " [2 5 8]] [[  5  14  23]\n",
      " [ 14  50  86]\n",
      " [ 23  86 149]]\n"
     ]
    }
   ],
   "source": [
    "b=a.T\n",
    "print (a,b,np.dot(a,b))"
   ]
  },
  {
   "cell_type": "code",
   "execution_count": 111,
   "metadata": {
    "collapsed": false
   },
   "outputs": [
    {
     "name": "stdout",
     "output_type": "stream",
     "text": [
      "[[  5  14  23]\n",
      " [ 14  50  86]\n",
      " [ 23  86 149]]\n"
     ]
    }
   ],
   "source": [
    "print (a.dot(b))"
   ]
  },
  {
   "cell_type": "code",
   "execution_count": 120,
   "metadata": {
    "collapsed": false,
    "scrolled": true
   },
   "outputs": [
    {
     "name": "stdout",
     "output_type": "stream",
     "text": [
      "[[0 1 2]\n",
      " [3 4 5]\n",
      " [6 7 8]]\n",
      "[[ 0  2  4]\n",
      " [ 6  8 10]\n",
      " [12 14 16]]\n",
      "[[ 0  2  6]\n",
      " [ 3  8 15]\n",
      " [ 6 14 24]]\n",
      "[[ 0  0  0]\n",
      " [ 3  4  5]\n",
      " [12 14 16]]\n"
     ]
    }
   ],
   "source": [
    "print (a)\n",
    "print (a*2)\n",
    "print (a*[1,2,3])\n",
    "print (a*np.arange(3).reshape(3,1))"
   ]
  },
  {
   "cell_type": "code",
   "execution_count": 130,
   "metadata": {
    "collapsed": false
   },
   "outputs": [
    {
     "name": "stdout",
     "output_type": "stream",
     "text": [
      "[[0 1 2]\n",
      " [3 4 5]\n",
      " [6 7 8]] \n",
      " [[ 0  2  4]\n",
      " [ 6  8 10]\n",
      " [12 14 16]] \n",
      " [[ 0  1  2  0  2  4]\n",
      " [ 3  4  5  6  8 10]\n",
      " [ 6  7  8 12 14 16]] \n",
      " [[ 0  1  2]\n",
      " [ 3  4  5]\n",
      " [ 6  7  8]\n",
      " [ 0  2  4]\n",
      " [ 6  8 10]\n",
      " [12 14 16]]\n"
     ]
    }
   ],
   "source": [
    "a=np.arange(9).reshape(3,3)\n",
    "b=2*a\n",
    "c=np.hstack((a,b))\n",
    "d=np.concatenate((a,b))\n",
    "print (a,'\\n',b,'\\n',c,'\\n',d)"
   ]
  },
  {
   "cell_type": "code",
   "execution_count": 143,
   "metadata": {
    "collapsed": false
   },
   "outputs": [
    {
     "name": "stdout",
     "output_type": "stream",
     "text": [
      "[[ 0  1  2  3]\n",
      " [ 4  5  6  7]\n",
      " [ 8  9 10 11]]\n",
      "[3 3 3]\n",
      "[3 4]\n"
     ]
    }
   ],
   "source": [
    "a=np.arange(12).reshape(3,4)\n",
    "print (a)\n",
    "print (np.argmax(a,axis=1))\n",
    "idx=np.where((a>2)&(a<5))\n",
    "print (a[idx])"
   ]
  },
  {
   "cell_type": "code",
   "execution_count": 144,
   "metadata": {
    "collapsed": false
   },
   "outputs": [
    {
     "name": "stdout",
     "output_type": "stream",
     "text": [
      "[[ 0  1  2  3]\n",
      " [ 4  5  6  7]\n",
      " [ 8  9 10 11]]\n"
     ]
    }
   ],
   "source": [
    "print (a)"
   ]
  },
  {
   "cell_type": "code",
   "execution_count": 145,
   "metadata": {
    "collapsed": false
   },
   "outputs": [
    {
     "ename": "LinAlgError",
     "evalue": "Last 2 dimensions of the array must be square",
     "output_type": "error",
     "traceback": [
      "\u001b[1;31m---------------------------------------------------------------------------\u001b[0m",
      "\u001b[1;31mLinAlgError\u001b[0m                               Traceback (most recent call last)",
      "\u001b[1;32m<ipython-input-145-dd6176c84d09>\u001b[0m in \u001b[0;36m<module>\u001b[1;34m()\u001b[0m\n\u001b[1;32m----> 1\u001b[1;33m \u001b[0mprint\u001b[0m \u001b[1;33m(\u001b[0m\u001b[0mnp\u001b[0m\u001b[1;33m.\u001b[0m\u001b[0mlinalg\u001b[0m\u001b[1;33m.\u001b[0m\u001b[0minv\u001b[0m\u001b[1;33m(\u001b[0m\u001b[0ma\u001b[0m\u001b[1;33m)\u001b[0m\u001b[1;33m)\u001b[0m\u001b[1;33m\u001b[0m\u001b[0m\n\u001b[0m",
      "\u001b[1;32mC:\\Users\\jay\\Anaconda3\\lib\\site-packages\\numpy\\linalg\\linalg.py\u001b[0m in \u001b[0;36minv\u001b[1;34m(a)\u001b[0m\n\u001b[0;32m    515\u001b[0m     \u001b[0ma\u001b[0m\u001b[1;33m,\u001b[0m \u001b[0mwrap\u001b[0m \u001b[1;33m=\u001b[0m \u001b[0m_makearray\u001b[0m\u001b[1;33m(\u001b[0m\u001b[0ma\u001b[0m\u001b[1;33m)\u001b[0m\u001b[1;33m\u001b[0m\u001b[0m\n\u001b[0;32m    516\u001b[0m     \u001b[0m_assertRankAtLeast2\u001b[0m\u001b[1;33m(\u001b[0m\u001b[0ma\u001b[0m\u001b[1;33m)\u001b[0m\u001b[1;33m\u001b[0m\u001b[0m\n\u001b[1;32m--> 517\u001b[1;33m     \u001b[0m_assertNdSquareness\u001b[0m\u001b[1;33m(\u001b[0m\u001b[0ma\u001b[0m\u001b[1;33m)\u001b[0m\u001b[1;33m\u001b[0m\u001b[0m\n\u001b[0m\u001b[0;32m    518\u001b[0m     \u001b[0mt\u001b[0m\u001b[1;33m,\u001b[0m \u001b[0mresult_t\u001b[0m \u001b[1;33m=\u001b[0m \u001b[0m_commonType\u001b[0m\u001b[1;33m(\u001b[0m\u001b[0ma\u001b[0m\u001b[1;33m)\u001b[0m\u001b[1;33m\u001b[0m\u001b[0m\n\u001b[0;32m    519\u001b[0m \u001b[1;33m\u001b[0m\u001b[0m\n",
      "\u001b[1;32mC:\\Users\\jay\\Anaconda3\\lib\\site-packages\\numpy\\linalg\\linalg.py\u001b[0m in \u001b[0;36m_assertNdSquareness\u001b[1;34m(*arrays)\u001b[0m\n\u001b[0;32m    210\u001b[0m     \u001b[1;32mfor\u001b[0m \u001b[0ma\u001b[0m \u001b[1;32min\u001b[0m \u001b[0marrays\u001b[0m\u001b[1;33m:\u001b[0m\u001b[1;33m\u001b[0m\u001b[0m\n\u001b[0;32m    211\u001b[0m         \u001b[1;32mif\u001b[0m \u001b[0mmax\u001b[0m\u001b[1;33m(\u001b[0m\u001b[0ma\u001b[0m\u001b[1;33m.\u001b[0m\u001b[0mshape\u001b[0m\u001b[1;33m[\u001b[0m\u001b[1;33m-\u001b[0m\u001b[1;36m2\u001b[0m\u001b[1;33m:\u001b[0m\u001b[1;33m]\u001b[0m\u001b[1;33m)\u001b[0m \u001b[1;33m!=\u001b[0m \u001b[0mmin\u001b[0m\u001b[1;33m(\u001b[0m\u001b[0ma\u001b[0m\u001b[1;33m.\u001b[0m\u001b[0mshape\u001b[0m\u001b[1;33m[\u001b[0m\u001b[1;33m-\u001b[0m\u001b[1;36m2\u001b[0m\u001b[1;33m:\u001b[0m\u001b[1;33m]\u001b[0m\u001b[1;33m)\u001b[0m\u001b[1;33m:\u001b[0m\u001b[1;33m\u001b[0m\u001b[0m\n\u001b[1;32m--> 212\u001b[1;33m             \u001b[1;32mraise\u001b[0m \u001b[0mLinAlgError\u001b[0m\u001b[1;33m(\u001b[0m\u001b[1;34m'Last 2 dimensions of the array must be square'\u001b[0m\u001b[1;33m)\u001b[0m\u001b[1;33m\u001b[0m\u001b[0m\n\u001b[0m\u001b[0;32m    213\u001b[0m \u001b[1;33m\u001b[0m\u001b[0m\n\u001b[0;32m    214\u001b[0m \u001b[1;32mdef\u001b[0m \u001b[0m_assertFinite\u001b[0m\u001b[1;33m(\u001b[0m\u001b[1;33m*\u001b[0m\u001b[0marrays\u001b[0m\u001b[1;33m)\u001b[0m\u001b[1;33m:\u001b[0m\u001b[1;33m\u001b[0m\u001b[0m\n",
      "\u001b[1;31mLinAlgError\u001b[0m: Last 2 dimensions of the array must be square"
     ]
    }
   ],
   "source": [
    "print (np.linalg.inv(a))"
   ]
  },
  {
   "cell_type": "code",
   "execution_count": 150,
   "metadata": {
    "collapsed": false
   },
   "outputs": [
    {
     "ename": "LinAlgError",
     "evalue": "Singular matrix",
     "output_type": "error",
     "traceback": [
      "\u001b[1;31m---------------------------------------------------------------------------\u001b[0m",
      "\u001b[1;31mLinAlgError\u001b[0m                               Traceback (most recent call last)",
      "\u001b[1;32m<ipython-input-150-43784419cc60>\u001b[0m in \u001b[0;36m<module>\u001b[1;34m()\u001b[0m\n\u001b[0;32m      1\u001b[0m \u001b[0ma\u001b[0m\u001b[1;33m=\u001b[0m\u001b[0mnp\u001b[0m\u001b[1;33m.\u001b[0m\u001b[0marange\u001b[0m\u001b[1;33m(\u001b[0m\u001b[1;36m9\u001b[0m\u001b[1;33m)\u001b[0m\u001b[1;33m.\u001b[0m\u001b[0mreshape\u001b[0m\u001b[1;33m(\u001b[0m\u001b[1;36m3\u001b[0m\u001b[1;33m,\u001b[0m\u001b[1;36m3\u001b[0m\u001b[1;33m)\u001b[0m\u001b[1;33m\u001b[0m\u001b[0m\n\u001b[1;32m----> 2\u001b[1;33m \u001b[0mb\u001b[0m\u001b[1;33m=\u001b[0m\u001b[0mnp\u001b[0m\u001b[1;33m.\u001b[0m\u001b[0mlinalg\u001b[0m\u001b[1;33m.\u001b[0m\u001b[0minv\u001b[0m\u001b[1;33m(\u001b[0m\u001b[0ma\u001b[0m\u001b[1;33m)\u001b[0m\u001b[1;33m\u001b[0m\u001b[0m\n\u001b[0m\u001b[0;32m      3\u001b[0m \u001b[0mprint\u001b[0m \u001b[1;33m(\u001b[0m\u001b[0mb\u001b[0m\u001b[1;33m)\u001b[0m\u001b[1;33m\u001b[0m\u001b[0m\n",
      "\u001b[1;32mC:\\Users\\jay\\Anaconda3\\lib\\site-packages\\numpy\\linalg\\linalg.py\u001b[0m in \u001b[0;36minv\u001b[1;34m(a)\u001b[0m\n\u001b[0;32m    524\u001b[0m     \u001b[0msignature\u001b[0m \u001b[1;33m=\u001b[0m \u001b[1;34m'D->D'\u001b[0m \u001b[1;32mif\u001b[0m \u001b[0misComplexType\u001b[0m\u001b[1;33m(\u001b[0m\u001b[0mt\u001b[0m\u001b[1;33m)\u001b[0m \u001b[1;32melse\u001b[0m \u001b[1;34m'd->d'\u001b[0m\u001b[1;33m\u001b[0m\u001b[0m\n\u001b[0;32m    525\u001b[0m     \u001b[0mextobj\u001b[0m \u001b[1;33m=\u001b[0m \u001b[0mget_linalg_error_extobj\u001b[0m\u001b[1;33m(\u001b[0m\u001b[0m_raise_linalgerror_singular\u001b[0m\u001b[1;33m)\u001b[0m\u001b[1;33m\u001b[0m\u001b[0m\n\u001b[1;32m--> 526\u001b[1;33m     \u001b[0mainv\u001b[0m \u001b[1;33m=\u001b[0m \u001b[0m_umath_linalg\u001b[0m\u001b[1;33m.\u001b[0m\u001b[0minv\u001b[0m\u001b[1;33m(\u001b[0m\u001b[0ma\u001b[0m\u001b[1;33m,\u001b[0m \u001b[0msignature\u001b[0m\u001b[1;33m=\u001b[0m\u001b[0msignature\u001b[0m\u001b[1;33m,\u001b[0m \u001b[0mextobj\u001b[0m\u001b[1;33m=\u001b[0m\u001b[0mextobj\u001b[0m\u001b[1;33m)\u001b[0m\u001b[1;33m\u001b[0m\u001b[0m\n\u001b[0m\u001b[0;32m    527\u001b[0m     \u001b[1;32mreturn\u001b[0m \u001b[0mwrap\u001b[0m\u001b[1;33m(\u001b[0m\u001b[0mainv\u001b[0m\u001b[1;33m.\u001b[0m\u001b[0mastype\u001b[0m\u001b[1;33m(\u001b[0m\u001b[0mresult_t\u001b[0m\u001b[1;33m,\u001b[0m \u001b[0mcopy\u001b[0m\u001b[1;33m=\u001b[0m\u001b[1;32mFalse\u001b[0m\u001b[1;33m)\u001b[0m\u001b[1;33m)\u001b[0m\u001b[1;33m\u001b[0m\u001b[0m\n\u001b[0;32m    528\u001b[0m \u001b[1;33m\u001b[0m\u001b[0m\n",
      "\u001b[1;32mC:\\Users\\jay\\Anaconda3\\lib\\site-packages\\numpy\\linalg\\linalg.py\u001b[0m in \u001b[0;36m_raise_linalgerror_singular\u001b[1;34m(err, flag)\u001b[0m\n\u001b[0;32m     88\u001b[0m \u001b[1;33m\u001b[0m\u001b[0m\n\u001b[0;32m     89\u001b[0m \u001b[1;32mdef\u001b[0m \u001b[0m_raise_linalgerror_singular\u001b[0m\u001b[1;33m(\u001b[0m\u001b[0merr\u001b[0m\u001b[1;33m,\u001b[0m \u001b[0mflag\u001b[0m\u001b[1;33m)\u001b[0m\u001b[1;33m:\u001b[0m\u001b[1;33m\u001b[0m\u001b[0m\n\u001b[1;32m---> 90\u001b[1;33m     \u001b[1;32mraise\u001b[0m \u001b[0mLinAlgError\u001b[0m\u001b[1;33m(\u001b[0m\u001b[1;34m\"Singular matrix\"\u001b[0m\u001b[1;33m)\u001b[0m\u001b[1;33m\u001b[0m\u001b[0m\n\u001b[0m\u001b[0;32m     91\u001b[0m \u001b[1;33m\u001b[0m\u001b[0m\n\u001b[0;32m     92\u001b[0m \u001b[1;32mdef\u001b[0m \u001b[0m_raise_linalgerror_nonposdef\u001b[0m\u001b[1;33m(\u001b[0m\u001b[0merr\u001b[0m\u001b[1;33m,\u001b[0m \u001b[0mflag\u001b[0m\u001b[1;33m)\u001b[0m\u001b[1;33m:\u001b[0m\u001b[1;33m\u001b[0m\u001b[0m\n",
      "\u001b[1;31mLinAlgError\u001b[0m: Singular matrix"
     ]
    }
   ],
   "source": [
    "a=np.arange(9).reshape(3,3)\n",
    "b=np.linalg.inv(a)\n",
    "print (b)"
   ]
  },
  {
   "cell_type": "code",
   "execution_count": null,
   "metadata": {
    "collapsed": true
   },
   "outputs": [],
   "source": [
    "#!/usr/bin/python\n",
    "# -*- coding: utf-8 -*-\n",
    "#copyRight by heibanke \n",
    "#%matplotlib inline\n",
    "\n",
    "from matplotlib import pyplot as plt\n",
    "import numpy as np\n",
    "\n",
    "A=np.array([[5],[2]])  #向量A#\n",
    "C=np.array([[2],[5]]) \n",
    "\n",
    "x=np.linspace(-2,2,10)  #干什么？y=ax,横坐标#\n",
    "\n",
    "x.shape=(1,10) #x#\n",
    "xx=A.dot(x)  #Ax#\n",
    "\n",
    "B=A.T.dot(C)  #ATC#\n",
    "AA=np.linalg.inv(A.T.dot(A))  #ATA的逆#\n",
    "\n",
    "P=A*AA*B   #P=Ax，x=ATA的逆*ATC#\n",
    "E=C-P\n",
    "\n",
    "fig = plt.figure() #figsize=(10,6)\n",
    "ax= fig.add_subplot(111)\n",
    "\n",
    "ax.plot(xx[0,:],xx[1,:])  #画直线\n",
    "ax.plot(A[0],A[1],'ko') #画A点\n",
    "ax.plot([C[0],P[0]],[C[1],P[1]],'r-o') #画线段CP\n",
    "ax.plot([0,C[0]],[0,C[1]],'m-o') #画线段OC\n",
    "ax.plot([0,E[0]],[0,E[1]],'k-o')#画线段0E\n",
    "\n",
    "margin=0.1\n",
    "ax.text(A[0]+margin, A[1]+margin, r\"A\",fontsize=20)# 为A点加标记\n",
    "ax.text(C[0]+margin, C[1]+margin, r\"C\",fontsize=20)\n",
    "ax.text(P[0]+margin, P[1]+margin, r\"P\",fontsize=20)\n",
    "ax.text(E[0]+margin, E[1]+margin, r\"E\",fontsize=20)\n",
    "\n",
    "\n",
    "ax.axis('equal')\n",
    "plt.show()"
   ]
  },
  {
   "cell_type": "code",
   "execution_count": 159,
   "metadata": {
    "collapsed": false
   },
   "outputs": [
    {
     "name": "stdout",
     "output_type": "stream",
     "text": [
      "[[-2.         -1.55555556 -1.11111111 -0.66666667 -0.22222222  0.22222222\n",
      "   0.66666667  1.11111111  1.55555556  2.        ]]\n"
     ]
    }
   ],
   "source": [
    "x=np.linspace(-2,2,10)\n",
    "x.shape=(1,10)\n",
    "print (x)"
   ]
  },
  {
   "cell_type": "code",
   "execution_count": 213,
   "metadata": {
    "collapsed": false
   },
   "outputs": [
    {
     "data": {
      "image/png": "[encoded data removed]",
      "text/plain": [
       "<matplotlib.figure.Figure at 0x29bf976b0f0>"
      ]
     },
     "metadata": {},
     "output_type": "display_data"
    }
   ],
   "source": [
    "from matplotlib import pyplot as plt\n",
    "%matplotlib inline\n",
    "import numpy as np\n",
    "\n",
    "A=np.array([[5],[2]])  #向量A#\n",
    "C=np.array([[2],[5]]) \n",
    "\n",
    "x=np.linspace(-2,2,10)  #干什么？#\n",
    "\n",
    "x.shape=(1,10) #x#\n",
    "xx=A.dot(x)  #Ax#\n",
    "#print (xx)\n",
    "B=A.T.dot(C)  #ATC#\n",
    "AA=np.linalg.inv(A.T.dot(A))  #ATA的逆#\n",
    "\n",
    "P=A*AA*B   #P=Ax，x=ATA的逆*ATC#\n",
    "E=C-P\n",
    "fig = plt.figure(figsize=(10,10)) \n",
    "ax= fig.add_subplot(111)\n",
    "ax.plot(xx[0,:],xx[1,:],marker='D')\n",
    "ax.plot(A[0],A[1],'ko') #画A点\n",
    "ax.plot([C[0],P[0]],[C[1],P[1]],'r-o')#画CP\n",
    "ax.plot([0,C[0]],[0,C[1]],'m-o') #画线段OC\n",
    "ax.plot([0,E[0]],[0,E[1]],'k-o')#画线段0E\n",
    "margin=0.1\n",
    "ax.text(A[0]+margin, A[1]+margin, r\"A\",fontsize=20)# 为A点加标记\n",
    "ax.text(C[0]+margin, C[1]+margin, r\"C\",fontsize=20)\n",
    "ax.text(P[0]+margin, P[1]+margin, r\"P\",fontsize=20)\n",
    "ax.text(E[0]+margin, E[1]+margin, r\"E\",fontsize=20)\n",
    "ax.axis('equal')\n",
    "plt.show()"
   ]
  },
  {
   "cell_type": "code",
   "execution_count": 185,
   "metadata": {
    "collapsed": false
   },
   "outputs": [
    {
     "data": {
      "image/png": "[encoded data removed]",
      "text/plain": [
       "<matplotlib.figure.Figure at 0x29bfabecd68>"
      ]
     },
     "metadata": {},
     "output_type": "display_data"
    }
   ],
   "source": [
    "from matplotlib import pyplot as plt\n",
    "fig=plt.figure()\n",
    "ax=fig.add_subplot(111)\n",
    "ax.plot([1,2,3],[3,4,5],marker='D')\n",
    "plt.show()"
   ]
  },
  {
   "cell_type": "code",
   "execution_count": 215,
   "metadata": {
    "collapsed": false
   },
   "outputs": [
    {
     "name": "stdout",
     "output_type": "stream",
     "text": [
      "[ -1.00000000e+00  -9.80000000e-01  -9.60000000e-01  -9.40000000e-01\n",
      "  -9.20000000e-01  -9.00000000e-01  -8.80000000e-01  -8.60000000e-01\n",
      "  -8.40000000e-01  -8.20000000e-01  -8.00000000e-01  -7.80000000e-01\n",
      "  -7.60000000e-01  -7.40000000e-01  -7.20000000e-01  -7.00000000e-01\n",
      "  -6.80000000e-01  -6.60000000e-01  -6.40000000e-01  -6.20000000e-01\n",
      "  -6.00000000e-01  -5.80000000e-01  -5.60000000e-01  -5.40000000e-01\n",
      "  -5.20000000e-01  -5.00000000e-01  -4.80000000e-01  -4.60000000e-01\n",
      "  -4.40000000e-01  -4.20000000e-01  -4.00000000e-01  -3.80000000e-01\n",
      "  -3.60000000e-01  -3.40000000e-01  -3.20000000e-01  -3.00000000e-01\n",
      "  -2.80000000e-01  -2.60000000e-01  -2.40000000e-01  -2.20000000e-01\n",
      "  -2.00000000e-01  -1.80000000e-01  -1.60000000e-01  -1.40000000e-01\n",
      "  -1.20000000e-01  -1.00000000e-01  -8.00000000e-02  -6.00000000e-02\n",
      "  -4.00000000e-02  -2.00000000e-02   8.88178420e-16   2.00000000e-02\n",
      "   4.00000000e-02   6.00000000e-02   8.00000000e-02   1.00000000e-01\n",
      "   1.20000000e-01   1.40000000e-01   1.60000000e-01   1.80000000e-01\n",
      "   2.00000000e-01   2.20000000e-01   2.40000000e-01   2.60000000e-01\n",
      "   2.80000000e-01   3.00000000e-01   3.20000000e-01   3.40000000e-01\n",
      "   3.60000000e-01   3.80000000e-01   4.00000000e-01   4.20000000e-01\n",
      "   4.40000000e-01   4.60000000e-01   4.80000000e-01   5.00000000e-01\n",
      "   5.20000000e-01   5.40000000e-01   5.60000000e-01   5.80000000e-01\n",
      "   6.00000000e-01   6.20000000e-01   6.40000000e-01   6.60000000e-01\n",
      "   6.80000000e-01   7.00000000e-01   7.20000000e-01   7.40000000e-01\n",
      "   7.60000000e-01   7.80000000e-01   8.00000000e-01   8.20000000e-01\n",
      "   8.40000000e-01   8.60000000e-01   8.80000000e-01   9.00000000e-01\n",
      "   9.20000000e-01   9.40000000e-01   9.60000000e-01   9.80000000e-01]\n"
     ]
    },
    {
     "data": {
      "image/png": "[encoded data removed]",
      "text/plain": [
       "<matplotlib.figure.Figure at 0x29bf8090cc0>"
      ]
     },
     "metadata": {},
     "output_type": "display_data"
    }
   ],
   "source": [
    "import numpy as np  \n",
    "import matplotlib.pyplot as plt  \n",
    "%matplotlib inline\n",
    "    \n",
    "x = np.arange(-1,1,0.02)  \n",
    "y = 2*np.sin(x*2.3)+0.5*x**3\n",
    "\n",
    "y1 = y+0.5*(np.random.rand(len(x))-0.5)\n",
    "print (x)\n",
    "fig=plt.figure()\n",
    "tu=fig.add_subplot(111)\n",
    "tu.plot(x,y)\n",
    "plt.show()\n"
   ]
  },
  {
   "cell_type": "code",
   "execution_count": 216,
   "metadata": {
    "collapsed": false
   },
   "outputs": [
    {
     "ename": "SyntaxError",
     "evalue": "invalid syntax (<ipython-input-216-a5595a001bc9>, line 16)",
     "output_type": "error",
     "traceback": [
      "\u001b[1;36m  File \u001b[1;32m\"<ipython-input-216-a5595a001bc9>\"\u001b[1;36m, line \u001b[1;32m16\u001b[0m\n\u001b[1;33m    b=y1.reshape(y1.shape[0],1)\u001b[0m\n\u001b[1;37m    ^\u001b[0m\n\u001b[1;31mSyntaxError\u001b[0m\u001b[1;31m:\u001b[0m invalid syntax\n"
     ]
    }
   ],
   "source": [
    "#!/usr/bin/python\n",
    "# -*- coding: utf-8 -*-\n",
    "#copyRight by heibanke \n",
    "\n",
    "import numpy as np  \n",
    "import matplotlib.pyplot as plt  \n",
    "%mplotlib inline  \n",
    "x = np.arange(-1,1,0.02)  \n",
    "y = ((x*x-1)**3+1)*(np.cos(x*2)+0.6*np.sin(x*1.3)) #理想曲线\n",
    "\n",
    "y1 = y+(np.random.rand(len(x))-0.5) #现有数据\n",
    "\n",
    "\n",
    "### write your code to gen A,b\n",
    "A=np.vstack(([x**6,x**3,x**2,x,],np.ones(len(x))).T\n",
    "b=y1.reshape(y1.shape[0],1)\n",
    "\n",
    "\n",
    "def projection(A,b):\n",
    "    ####\n",
    "    # return A*inv(AT*A)*AT*b\n",
    "    ####\n",
    "    AA = A.T.dot(A)\n",
    "    w=np.linalg.inv(AA).dot(A.T).dot(b)\n",
    "    print (w)\n",
    "    return A.dot(w)\n",
    "\n",
    "yw = projection(A,b)\n",
    "yw.shape = (yw.shape[0],)\n",
    "\n",
    "plt.plot(x,y,color='g',linestyle='-',marker='') \n",
    "plt.plot(x,y1,color='m',linestyle='',marker='o')\n",
    "#plt.plot(x,yw,color='r',linestyle='',marker='.')\n",
    "\n",
    "plt.show()\n"
   ]
  },
  {
   "cell_type": "code",
   "execution_count": 218,
   "metadata": {
    "collapsed": false
   },
   "outputs": [
    {
     "name": "stdout",
     "output_type": "stream",
     "text": [
      "[[  9.00311253e+07]\n",
      " [ -8.96853367e-02]\n",
      " [ -4.50452268e+07]\n",
      " [  2.35482600e+00]\n",
      " [  3.78350356e+06]\n",
      " [ -2.16468511e+00]\n",
      " [ -1.25391564e+05]\n",
      " [  5.92864203e+04]\n",
      " [ -9.00904164e+07]]\n"
     ]
    },
    {
     "data": {
      "image/png": "[encoded data removed]",
      "text/plain": [
       "<matplotlib.figure.Figure at 0x29bf9899e48>"
      ]
     },
     "metadata": {},
     "output_type": "display_data"
    }
   ],
   "source": [
    "#!/usr/bin/python\n",
    "# -*- coding: utf-8 -*-\n",
    "#copyRight by heibanke \n",
    "\n",
    "import numpy as np  \n",
    "import matplotlib.pyplot as plt  \n",
    "%matplotlib inline  \n",
    "x = np.arange(-1,1,0.02)  \n",
    "y = ((x*x-1)**3+1)*(np.cos(x*2)+0.6*np.sin(x*1.3)) #理想曲线\n",
    "\n",
    "y1 = y+(np.random.rand(len(x))-0.5) #现有数据\n",
    "\n",
    "\n",
    "### write your code to gen A,b\n",
    "m=[]\n",
    "for i in range(0,7):\n",
    "    m.append(x**(i))\n",
    "    \n",
    "m.append(np.cos(x**2))\n",
    "m.append(np.cos(x))\n",
    "\n",
    "A=np.array(m).T\n",
    "b=y1.reshape(y1.shape[0],1)\n",
    "\n",
    "def projection(A,b):\n",
    "    ####\n",
    "    # return A*inv(AT*A)*AT*b\n",
    "    ####\n",
    "    AA = A.T.dot(A)\n",
    "    w=np.linalg.inv(AA).dot(A.T).dot(b)\n",
    "    print (w)\n",
    "    return A.dot(w)\n",
    "\n",
    "yw = projection(A,b)\n",
    "yw.shape = (yw.shape[0],)\n",
    "\n",
    "plt.plot(x,y,color='g',linestyle='-',marker='') \n",
    "plt.plot(x,y1,color='m',linestyle='',marker='o')\n",
    "#plt.plot(x,yw,color='r',linestyle='',marker='.')\n",
    "\n",
    "plt.show()\n"
   ]
  },
  {
   "cell_type": "code",
   "execution_count": null,
   "metadata": {
    "collapsed": true
   },
   "outputs": [],
   "source": []
  }
 ],
 "metadata": {
  "kernelspec": {
   "display_name": "Python 3",
   "language": "python",
   "name": "python3"
  },
  "language_info": {
   "codemirror_mode": {
    "name": "ipython",
    "version": 3
   },
   "file_extension": ".py",
   "mimetype": "text/x-python",
   "name": "python",
   "nbconvert_exporter": "python",
   "pygments_lexer": "ipython3",
   "version": "3.5.1"
  }
 },
 "nbformat": 4,
 "nbformat_minor": 0
}
